{
 "cells": [
  {
   "cell_type": "code",
   "execution_count": null,
   "metadata": {
    "id": "o2J-QSJ7V7Qn"
   },
   "outputs": [],
   "source": [
    "import numpy as np\n",
    "import torch\n",
    "from torch import nn\n",
    "import tqdm\n",
    "\n",
    "import torchvision\n",
    "import matplotlib.pyplot as plt\n",
    "from torch.utils.data import DataLoader, Subset\n",
    "from sklearn.model_selection import train_test_split\n",
    "\n",
    "import tensorflow as tf"
   ]
  },
  {
   "cell_type": "code",
   "execution_count": null,
   "metadata": {
    "colab": {
     "base_uri": "https://localhost:8080/"
    },
    "id": "Qe84Ryi3V8R0",
    "outputId": "aafb7bae-e439-4a23-b987-9575dc27fc53"
   },
   "outputs": [
    {
     "name": "stdout",
     "output_type": "stream",
     "text": [
      "Downloading http://fashion-mnist.s3-website.eu-central-1.amazonaws.com/train-images-idx3-ubyte.gz\n",
      "Downloading http://fashion-mnist.s3-website.eu-central-1.amazonaws.com/train-images-idx3-ubyte.gz to data/FashionMNIST/raw/train-images-idx3-ubyte.gz\n"
     ]
    },
    {
     "name": "stderr",
     "output_type": "stream",
     "text": [
      "100%|██████████| 26421880/26421880 [00:01<00:00, 18337393.69it/s]\n"
     ]
    },
    {
     "name": "stdout",
     "output_type": "stream",
     "text": [
      "Extracting data/FashionMNIST/raw/train-images-idx3-ubyte.gz to data/FashionMNIST/raw\n",
      "\n",
      "Downloading http://fashion-mnist.s3-website.eu-central-1.amazonaws.com/train-labels-idx1-ubyte.gz\n",
      "Downloading http://fashion-mnist.s3-website.eu-central-1.amazonaws.com/train-labels-idx1-ubyte.gz to data/FashionMNIST/raw/train-labels-idx1-ubyte.gz\n"
     ]
    },
    {
     "name": "stderr",
     "output_type": "stream",
     "text": [
      "100%|██████████| 29515/29515 [00:00<00:00, 341149.27it/s]\n"
     ]
    },
    {
     "name": "stdout",
     "output_type": "stream",
     "text": [
      "Extracting data/FashionMNIST/raw/train-labels-idx1-ubyte.gz to data/FashionMNIST/raw\n",
      "\n",
      "Downloading http://fashion-mnist.s3-website.eu-central-1.amazonaws.com/t10k-images-idx3-ubyte.gz\n",
      "Downloading http://fashion-mnist.s3-website.eu-central-1.amazonaws.com/t10k-images-idx3-ubyte.gz to data/FashionMNIST/raw/t10k-images-idx3-ubyte.gz\n"
     ]
    },
    {
     "name": "stderr",
     "output_type": "stream",
     "text": [
      "100%|██████████| 4422102/4422102 [00:00<00:00, 6079865.87it/s]\n"
     ]
    },
    {
     "name": "stdout",
     "output_type": "stream",
     "text": [
      "Extracting data/FashionMNIST/raw/t10k-images-idx3-ubyte.gz to data/FashionMNIST/raw\n",
      "\n",
      "Downloading http://fashion-mnist.s3-website.eu-central-1.amazonaws.com/t10k-labels-idx1-ubyte.gz\n",
      "Downloading http://fashion-mnist.s3-website.eu-central-1.amazonaws.com/t10k-labels-idx1-ubyte.gz to data/FashionMNIST/raw/t10k-labels-idx1-ubyte.gz\n"
     ]
    },
    {
     "name": "stderr",
     "output_type": "stream",
     "text": [
      "100%|██████████| 5148/5148 [00:00<00:00, 14718661.89it/s]\n"
     ]
    },
    {
     "name": "stdout",
     "output_type": "stream",
     "text": [
      "Extracting data/FashionMNIST/raw/t10k-labels-idx1-ubyte.gz to data/FashionMNIST/raw\n",
      "\n",
      "106\n",
      "12\n",
      "40\n"
     ]
    }
   ],
   "source": [
    "# Use the following code to load and normalize the dataset for training and testing\n",
    "# It will downlad the dataset into data subfolder (change to your data folder name)\n",
    "train_dataset = torchvision.datasets.FashionMNIST('data/', train=True, download=True,\n",
    "                             transform=torchvision.transforms.Compose([\n",
    "                               torchvision.transforms.ToTensor(),\n",
    "                               torchvision.transforms.Normalize(\n",
    "                                 (0.1307,), (0.3081,))\n",
    "                             ]))\n",
    "\n",
    "test_dataset = torchvision.datasets.FashionMNIST('data/', train=False, download=True,\n",
    "                             transform=torchvision.transforms.Compose([\n",
    "                               torchvision.transforms.ToTensor(),\n",
    "                               torchvision.transforms.Normalize(\n",
    "                                 (0.1307,), (0.3081,))\n",
    "                             ]))\n",
    "\n",
    "\n",
    "# Use the following code to create a validation set of 10%\n",
    "train_indices, val_indices, _, _ = train_test_split(\n",
    "    range(len(train_dataset)),\n",
    "    train_dataset.targets,\n",
    "    stratify=train_dataset.targets,\n",
    "    test_size=0.1,\n",
    ")\n",
    "\n",
    "# Generate training and validation subsets based on indices\n",
    "train_split = Subset(train_dataset, train_indices)\n",
    "val_split = Subset(train_dataset, val_indices)\n",
    "\n",
    "\n",
    "# set batches sizes\n",
    "train_batch_size = 512 #Define train batch size\n",
    "test_batch_size  = 256 #Define test batch size (can be larger than train batch size)\n",
    "\n",
    "\n",
    "# Define dataloader objects that help to iterate over batches and samples for\n",
    "# training, validation and testing\n",
    "train_batches = DataLoader(train_split, batch_size=train_batch_size, shuffle=True)\n",
    "val_batches = DataLoader(val_split, batch_size=train_batch_size, shuffle=True)\n",
    "test_batches = DataLoader(test_dataset, batch_size=test_batch_size, shuffle=True)\n",
    "\n",
    "num_train_batches=len(train_batches)\n",
    "num_val_batches=len(val_batches)\n",
    "num_test_batches=len(test_batches)\n",
    "\n",
    "\n",
    "print(num_train_batches)\n",
    "print(num_val_batches)\n",
    "print(num_test_batches)\n",
    "\n",
    "\n",
    "#Sample code to visulaize the first sample in first 16 batches\n",
    "\n",
    "# batch_num = 0\n",
    "# for train_features, train_labels in train_batches:\n",
    "\n",
    "#     if batch_num == 16:\n",
    "#         break    # break here\n",
    "\n",
    "#     batch_num = batch_num +1\n",
    "#     print(f\"Feature batch shape: {train_features.size()}\")\n",
    "#     print(f\"Labels batch shape: {train_labels.size()}\")\n",
    "\n",
    "#     img = train_features[0].squeeze()\n",
    "#     label = train_labels[0]\n",
    "#     plt.imshow(img, cmap=\"gray\")\n",
    "#     plt.show()\n",
    "#     print(f\"Label: {label}\")\n",
    "\n",
    "\n",
    "\n",
    "# #Sample code to plot N^2 images from the dataset\n",
    "# def plot_images(XX, N, title):\n",
    "#     fig, ax = plt.subplots(N, N, figsize=(8, 8))\n",
    "\n",
    "#     for i in range(N):\n",
    "#       for j in range(N):\n",
    "#         ax[i,j].imshow(XX[(N)*i+j], cmap=\"Greys\")\n",
    "#         ax[i,j].axis(\"off\")\n",
    "#     fig.suptitle(title, fontsize=24)\n",
    "\n",
    "# plot_images(train_dataset.data[:64], 8, \"First 64 Training Images\")"
   ]
  },
  {
   "cell_type": "code",
   "execution_count": null,
   "metadata": {
    "id": "ONFGR3Y0WkN6"
   },
   "outputs": [],
   "source": [
    "import torch.nn.init as init\n",
    "\n",
    "#Define your (As Cool As It Gets) Fully Connected Neural Network\n",
    "class ACAIGFCN2(nn.Module):\n",
    "    #Initialize model layers, add additional arguments to adjust\n",
    "    def __init__(self, input_dim, output_dim, hidden1_dim, hidden2_dim):\n",
    "        super(ACAIGFCN2, self).__init__()\n",
    "\n",
    "        self.layer1 = torch.nn.Linear(input_dim, hidden1_dim)\n",
    "        self.layer2 = torch.nn.Linear(hidden1_dim, hidden2_dim)\n",
    "        self.layer3 = torch.nn.Linear(hidden2_dim, output_dim)\n",
    "\n",
    "#Define the network layer(s) and activation function(s)\n",
    "    def forward(self, x):\n",
    "            #Define how your model propagates the input through the network\n",
    "            out1 = torch.nn.functional.relu(self.layer1(x))\n",
    "            out2 = torch.nn.functional.relu(self.layer2(out1))\n",
    "            output = self.layer3(out2)\n",
    "\n",
    "            return output\n",
    "\n",
    "#Define your (As Cool As It Gets) Fully Connected Neural Network\n",
    "class ACAIGFCN1(nn.Module):\n",
    "    #Initialize model layers, add additional arguments to adjust\n",
    "    def __init__(self, input_dim, output_dim, hidden1_dim):\n",
    "        super(ACAIGFCN1, self).__init__()\n",
    "\n",
    "        self.layer1 = torch.nn.Linear(input_dim, hidden1_dim)\n",
    "        self.layer2 = torch.nn.Linear(hidden1_dim, output_dim)\n",
    "\n",
    "#Define the network layer(s) and activation function(s)\n",
    "    def forward(self, x):\n",
    "            #Define how your model propagates the input through the network\n",
    "            out1 = torch.nn.functional.relu(self.layer1(x))\n",
    "            output = self.layer2(out1)\n",
    "\n",
    "            return output\n",
    "\n",
    "\n",
    "#Define your (As Cool As It Gets) Fully Connected Neural Network\n",
    "class ACAIGFCN3(nn.Module):\n",
    "    #Initialize model layers, add additional arguments to adjust\n",
    "    def __init__(self, input_dim, output_dim, hidden1_dim, hidden2_dim, hidden3_dim):\n",
    "        super(ACAIGFCN3, self).__init__()\n",
    "\n",
    "        self.layer1 = torch.nn.Linear(input_dim, hidden1_dim)\n",
    "        self.layer2 = torch.nn.Linear(hidden1_dim, hidden2_dim)\n",
    "        self.layer3 = torch.nn.Linear(hidden2_dim, hidden3_dim)\n",
    "        self.layer4 = torch.nn.Linear(hidden3_dim, output_dim)\n",
    "\n",
    "\n",
    "#Define the network layer(s) and activation function(s)\n",
    "    def forward(self, x):\n",
    "            #Define how your model propagates the input through the network\n",
    "            out1 = torch.nn.functional.relu(self.layer1(x))\n",
    "            out2 = torch.nn.functional.relu(self.layer2(out1))\n",
    "            out3 = torch.nn.functional.relu(self.layer3(out2))\n",
    "            output = self.layer4(out3)\n",
    "\n",
    "            return output\n",
    "\n",
    "\n",
    "#Define your (As Cool As It Gets) Fully Connected Neural Network\n",
    "class ACAIGFCN_dropout(nn.Module):\n",
    "    #Initialize model layers, add additional arguments to adjust\n",
    "    def __init__(self, input_dim, output_dim, hidden1_dim):\n",
    "        super(ACAIGFCN_dropout, self).__init__()\n",
    "\n",
    "        self.layer1 = torch.nn.Linear(input_dim, hidden1_dim)\n",
    "        self.layer2 = torch.nn.Linear(hidden1_dim, output_dim)\n",
    "        self.dropout = nn.Dropout(p=0.5) #drop out probability\n",
    "\n",
    "#Define the network layer(s) and activation function(s)\n",
    "    def forward(self, x):\n",
    "            #Define how your model propagates the input through the network\n",
    "            out1 = torch.nn.functional.relu(self.layer1(x))\n",
    "            out2 = self.dropout(out1)\n",
    "            output = self.layer2(out2)\n",
    "\n",
    "            return output\n",
    "\n",
    "\n",
    "\n",
    "class ACAIGFCN_batch_norm(nn.Module):\n",
    "    #Initialize model layers, add additional arguments to adjust\n",
    "    def __init__(self, input_dim, output_dim, hidden1_dim):\n",
    "        super(ACAIGFCN_batch_norm, self).__init__()\n",
    "\n",
    "        self.layer1 = nn.Linear(input_dim, hidden1_dim)\n",
    "        self.bn1 = nn.BatchNorm1d(hidden1_dim)  # Add BatchNorm1d layer\n",
    "        self.layer2 = nn.Linear(hidden1_dim, output_dim)\n",
    "        self.bn2 = nn.BatchNorm1d(output_dim)  # Add BatchNorm1d layer\n",
    "\n",
    "    def forward(self, x):\n",
    "        out1 = self.layer1(x)\n",
    "        out1 = self.bn1(out1)  # Apply BatchNorm1d\n",
    "        out1 = torch.relu(out1)\n",
    "\n",
    "        output = self.layer2(out1)\n",
    "        output = self.bn2(output)  # Apply BatchNorm1d\n",
    "\n",
    "        return\n",
    "\n",
    "class ACAIGFCN_Xavier(nn.Module):\n",
    "    def __init__(self, input_dim, output_dim, hidden1_dim):\n",
    "        super(ACAIGFCN_Xavier, self).__init__()\n",
    "\n",
    "        self.layer1 = torch.nn.Linear(input_dim, hidden1_dim)\n",
    "        init.xavier_normal_(self.layer1.weight)  # Apply Xavier Normal initialization to layer1 weights\n",
    "        self.layer2 = torch.nn.Linear(hidden1_dim, output_dim)\n",
    "        init.xavier_normal_(self.layer2.weight)  # Apply Xavier Normal initialization to layer2 weights\n",
    "\n",
    "    def forward(self, x):\n",
    "        out1 = torch.nn.functional.relu(self.layer1(x))\n",
    "        output = self.layer2(out1)\n",
    "        return output"
   ]
  },
  {
   "cell_type": "code",
   "execution_count": null,
   "metadata": {
    "colab": {
     "base_uri": "https://localhost:8080/"
    },
    "id": "AMtblsbSWmMJ",
    "outputId": "8f123411-d921-40f2-dc72-3fee1a0dde36"
   },
   "outputs": [
    {
     "name": "stderr",
     "output_type": "stream",
     "text": [
      "  2%|▏         | 1/50 [00:13<11:09, 13.66s/it]"
     ]
    },
    {
     "name": "stdout",
     "output_type": "stream",
     "text": [
      "Epoch: 0; Validation Accuracy:76.20725780725479+/-2.114839040729932%\n"
     ]
    },
    {
     "name": "stderr",
     "output_type": "stream",
     "text": [
      "\r",
      "  4%|▍         | 2/50 [00:27<10:57, 13.69s/it]"
     ]
    },
    {
     "name": "stdout",
     "output_type": "stream",
     "text": [
      "Epoch: 1; Validation Accuracy:78.99966041247049+/-2.367934318369053%\n"
     ]
    },
    {
     "name": "stderr",
     "output_type": "stream",
     "text": [
      "\r",
      "  6%|▌         | 3/50 [00:40<10:35, 13.53s/it]"
     ]
    },
    {
     "name": "stdout",
     "output_type": "stream",
     "text": [
      "Epoch: 2; Validation Accuracy:80.63858697811762+/-2.6441687857283216%\n"
     ]
    },
    {
     "name": "stderr",
     "output_type": "stream",
     "text": [
      "\r",
      "  8%|▊         | 4/50 [00:53<10:13, 13.33s/it]"
     ]
    },
    {
     "name": "stdout",
     "output_type": "stream",
     "text": [
      "Epoch: 3; Validation Accuracy:81.2103713552157+/-1.6403901581237488%\n"
     ]
    },
    {
     "name": "stderr",
     "output_type": "stream",
     "text": [
      "\r",
      " 10%|█         | 5/50 [01:06<09:54, 13.21s/it]"
     ]
    },
    {
     "name": "stdout",
     "output_type": "stream",
     "text": [
      "Epoch: 4; Validation Accuracy:81.8323994676272+/-1.948271406580884%\n"
     ]
    },
    {
     "name": "stderr",
     "output_type": "stream",
     "text": [
      "\r",
      " 12%|█▏        | 6/50 [01:19<09:38, 13.14s/it]"
     ]
    },
    {
     "name": "stdout",
     "output_type": "stream",
     "text": [
      "Epoch: 5; Validation Accuracy:82.45230416456857+/-1.4592043954640053%\n"
     ]
    },
    {
     "name": "stderr",
     "output_type": "stream",
     "text": [
      "\r",
      " 14%|█▍        | 7/50 [01:32<09:23, 13.10s/it]"
     ]
    },
    {
     "name": "stdout",
     "output_type": "stream",
     "text": [
      "Epoch: 6; Validation Accuracy:82.69502967596054+/-1.9375027420764266%\n"
     ]
    },
    {
     "name": "stderr",
     "output_type": "stream",
     "text": [
      "\r",
      " 16%|█▌        | 8/50 [01:45<09:10, 13.11s/it]"
     ]
    },
    {
     "name": "stdout",
     "output_type": "stream",
     "text": [
      "Epoch: 7; Validation Accuracy:82.86769688129425+/-1.5261858345992863%\n"
     ]
    },
    {
     "name": "stderr",
     "output_type": "stream",
     "text": [
      "\r",
      " 18%|█▊        | 9/50 [01:59<08:57, 13.12s/it]"
     ]
    },
    {
     "name": "stdout",
     "output_type": "stream",
     "text": [
      "Epoch: 8; Validation Accuracy:83.03682655096054+/-0.7402810994892308%\n"
     ]
    },
    {
     "name": "stderr",
     "output_type": "stream",
     "text": [
      "\r",
      " 20%|██        | 10/50 [02:11<08:41, 13.03s/it]"
     ]
    },
    {
     "name": "stdout",
     "output_type": "stream",
     "text": [
      "Epoch: 9; Validation Accuracy:83.47203334172568+/-2.192095930811835%\n"
     ]
    },
    {
     "name": "stderr",
     "output_type": "stream",
     "text": [
      "\r",
      " 22%|██▏       | 11/50 [02:24<08:25, 12.97s/it]"
     ]
    },
    {
     "name": "stdout",
     "output_type": "stream",
     "text": [
      "Epoch: 10; Validation Accuracy:83.78198593854904+/-1.360498259888312%\n"
     ]
    },
    {
     "name": "stderr",
     "output_type": "stream",
     "text": [
      "\r",
      " 24%|██▍       | 12/50 [02:37<08:12, 12.95s/it]"
     ]
    },
    {
     "name": "stdout",
     "output_type": "stream",
     "text": [
      "Epoch: 11; Validation Accuracy:83.81453802188238+/-1.9499256459954328%\n"
     ]
    },
    {
     "name": "stderr",
     "output_type": "stream",
     "text": [
      "\r",
      " 26%|██▌       | 13/50 [02:50<08:00, 12.98s/it]"
     ]
    },
    {
     "name": "stdout",
     "output_type": "stream",
     "text": [
      "Epoch: 12; Validation Accuracy:84.32192603747049+/-1.746302302347175%\n"
     ]
    },
    {
     "name": "stderr",
     "output_type": "stream",
     "text": [
      "\r",
      " 28%|██▊       | 14/50 [03:03<07:50, 13.06s/it]"
     ]
    },
    {
     "name": "stdout",
     "output_type": "stream",
     "text": [
      "Epoch: 13; Validation Accuracy:84.25469895203909+/-1.5714886473752299%\n"
     ]
    },
    {
     "name": "stderr",
     "output_type": "stream",
     "text": [
      "\r",
      " 30%|███       | 15/50 [03:16<07:35, 13.02s/it]"
     ]
    },
    {
     "name": "stdout",
     "output_type": "stream",
     "text": [
      "Epoch: 14; Validation Accuracy:84.17897969484329+/-1.4945953640952039%\n"
     ]
    },
    {
     "name": "stderr",
     "output_type": "stream",
     "text": [
      "\r",
      " 32%|███▏      | 16/50 [03:29<07:23, 13.05s/it]"
     ]
    },
    {
     "name": "stdout",
     "output_type": "stream",
     "text": [
      "Epoch: 15; Validation Accuracy:84.55545157194138+/-1.9162468735245792%\n"
     ]
    },
    {
     "name": "stderr",
     "output_type": "stream",
     "text": [
      "\r",
      " 34%|███▍      | 17/50 [03:42<07:07, 12.95s/it]"
     ]
    },
    {
     "name": "stdout",
     "output_type": "stream",
     "text": [
      "Epoch: 16; Validation Accuracy:84.7203349073728+/-1.0444871851667572%\n"
     ]
    },
    {
     "name": "stderr",
     "output_type": "stream",
     "text": [
      "\r",
      " 36%|███▌      | 18/50 [03:55<06:53, 12.92s/it]"
     ]
    },
    {
     "name": "stdout",
     "output_type": "stream",
     "text": [
      "Epoch: 17; Validation Accuracy:84.76633280515671+/-1.2665361294323234%\n"
     ]
    },
    {
     "name": "stderr",
     "output_type": "stream",
     "text": [
      "\r",
      " 38%|███▊      | 19/50 [04:08<06:38, 12.87s/it]"
     ]
    },
    {
     "name": "stdout",
     "output_type": "stream",
     "text": [
      "Epoch: 18; Validation Accuracy:84.88097240527472+/-1.42057921306768%\n"
     ]
    },
    {
     "name": "stderr",
     "output_type": "stream",
     "text": [
      "\r",
      " 40%|████      | 20/50 [04:21<06:25, 12.84s/it]"
     ]
    },
    {
     "name": "stdout",
     "output_type": "stream",
     "text": [
      "Epoch: 19; Validation Accuracy:84.97225989898047+/-1.212235881508992%\n"
     ]
    },
    {
     "name": "stderr",
     "output_type": "stream",
     "text": [
      "\r",
      " 42%|████▏     | 21/50 [04:33<06:11, 12.81s/it]"
     ]
    },
    {
     "name": "stdout",
     "output_type": "stream",
     "text": [
      "Epoch: 20; Validation Accuracy:84.82931405305862+/-1.5619171233107556%\n"
     ]
    },
    {
     "name": "stderr",
     "output_type": "stream",
     "text": [
      "\r",
      " 44%|████▍     | 22/50 [04:46<06:01, 12.91s/it]"
     ]
    },
    {
     "name": "stdout",
     "output_type": "stream",
     "text": [
      "Epoch: 21; Validation Accuracy:85.18597135941187+/-1.4451471484277778%\n"
     ]
    },
    {
     "name": "stderr",
     "output_type": "stream",
     "text": [
      "\r",
      " 46%|████▌     | 23/50 [04:59<05:48, 12.90s/it]"
     ]
    },
    {
     "name": "stdout",
     "output_type": "stream",
     "text": [
      "Epoch: 22; Validation Accuracy:85.26098281145096+/-1.3318010592838088%\n"
     ]
    },
    {
     "name": "stderr",
     "output_type": "stream",
     "text": [
      "\r",
      " 48%|████▊     | 24/50 [05:12<05:34, 12.87s/it]"
     ]
    },
    {
     "name": "stdout",
     "output_type": "stream",
     "text": [
      "Epoch: 23; Validation Accuracy:85.32325625419617+/-1.1476690154439135%\n"
     ]
    },
    {
     "name": "stderr",
     "output_type": "stream",
     "text": [
      "\r",
      " 50%|█████     | 25/50 [05:25<05:21, 12.87s/it]"
     ]
    },
    {
     "name": "stdout",
     "output_type": "stream",
     "text": [
      "Epoch: 24; Validation Accuracy:84.9510302146276+/-1.6400034232765963%\n"
     ]
    },
    {
     "name": "stderr",
     "output_type": "stream",
     "text": [
      "\r",
      " 52%|█████▏    | 26/50 [05:38<05:08, 12.84s/it]"
     ]
    },
    {
     "name": "stdout",
     "output_type": "stream",
     "text": [
      "Epoch: 25; Validation Accuracy:85.36854634682336+/-1.6945156236355352%\n"
     ]
    },
    {
     "name": "stderr",
     "output_type": "stream",
     "text": [
      "\r",
      " 54%|█████▍    | 27/50 [05:50<04:54, 12.81s/it]"
     ]
    },
    {
     "name": "stdout",
     "output_type": "stream",
     "text": [
      "Epoch: 26; Validation Accuracy:85.32467186450958+/-1.3039330522994976%\n"
     ]
    },
    {
     "name": "stderr",
     "output_type": "stream",
     "text": [
      "\r",
      " 56%|█████▌    | 28/50 [06:04<04:46, 13.02s/it]"
     ]
    },
    {
     "name": "stdout",
     "output_type": "stream",
     "text": [
      "Epoch: 27; Validation Accuracy:85.52635312080383+/-1.7480162419410208%\n"
     ]
    },
    {
     "name": "stderr",
     "output_type": "stream",
     "text": [
      "\r",
      " 58%|█████▊    | 29/50 [06:17<04:35, 13.11s/it]"
     ]
    },
    {
     "name": "stdout",
     "output_type": "stream",
     "text": [
      "Epoch: 28; Validation Accuracy:85.60914844274521+/-1.418228901092495%\n"
     ]
    },
    {
     "name": "stderr",
     "output_type": "stream",
     "text": [
      "\r",
      " 60%|██████    | 30/50 [06:31<04:24, 13.20s/it]"
     ]
    },
    {
     "name": "stdout",
     "output_type": "stream",
     "text": [
      "Epoch: 29; Validation Accuracy:85.63320885101953+/-1.5112937317654336%\n"
     ]
    },
    {
     "name": "stderr",
     "output_type": "stream",
     "text": [
      "\r",
      " 62%|██████▏   | 31/50 [06:44<04:10, 13.17s/it]"
     ]
    },
    {
     "name": "stdout",
     "output_type": "stream",
     "text": [
      "Epoch: 30; Validation Accuracy:85.63957760731378+/-0.899344220772207%\n"
     ]
    },
    {
     "name": "stderr",
     "output_type": "stream",
     "text": [
      "\r",
      " 64%|██████▍   | 32/50 [06:57<03:57, 13.18s/it]"
     ]
    },
    {
     "name": "stdout",
     "output_type": "stream",
     "text": [
      "Epoch: 31; Validation Accuracy:85.75563281774521+/-1.0596703400086571%\n"
     ]
    },
    {
     "name": "stderr",
     "output_type": "stream",
     "text": [
      "\r",
      " 66%|██████▌   | 33/50 [07:10<03:43, 13.14s/it]"
     ]
    },
    {
     "name": "stdout",
     "output_type": "stream",
     "text": [
      "Epoch: 32; Validation Accuracy:85.68769792715707+/-1.0479920323795995%\n"
     ]
    },
    {
     "name": "stderr",
     "output_type": "stream",
     "text": [
      "\r",
      " 68%|██████▊   | 34/50 [07:23<03:29, 13.07s/it]"
     ]
    },
    {
     "name": "stdout",
     "output_type": "stream",
     "text": [
      "Epoch: 33; Validation Accuracy:85.86461146672568+/-1.333141321000021%\n"
     ]
    },
    {
     "name": "stderr",
     "output_type": "stream",
     "text": [
      "\r",
      " 70%|███████   | 35/50 [07:36<03:16, 13.07s/it]"
     ]
    },
    {
     "name": "stdout",
     "output_type": "stream",
     "text": [
      "Epoch: 34; Validation Accuracy:85.90565572182336+/-1.7738076796358315%\n"
     ]
    },
    {
     "name": "stderr",
     "output_type": "stream",
     "text": [
      "\r",
      " 72%|███████▏  | 36/50 [07:49<03:03, 13.09s/it]"
     ]
    },
    {
     "name": "stdout",
     "output_type": "stream",
     "text": [
      "Epoch: 35; Validation Accuracy:85.82781354586282+/-1.9022006446094557%\n"
     ]
    },
    {
     "name": "stderr",
     "output_type": "stream",
     "text": [
      "\r",
      " 74%|███████▍  | 37/50 [08:02<02:49, 13.04s/it]"
     ]
    },
    {
     "name": "stdout",
     "output_type": "stream",
     "text": [
      "Epoch: 36; Validation Accuracy:86.06912344694138+/-1.1900638342711378%\n"
     ]
    },
    {
     "name": "stderr",
     "output_type": "stream",
     "text": [
      "\r",
      " 76%|███████▌  | 38/50 [08:15<02:35, 13.00s/it]"
     ]
    },
    {
     "name": "stdout",
     "output_type": "stream",
     "text": [
      "Epoch: 37; Validation Accuracy:85.96156040827432+/-1.5789578411830072%\n"
     ]
    },
    {
     "name": "stderr",
     "output_type": "stream",
     "text": [
      "\r",
      " 78%|███████▊  | 39/50 [08:28<02:22, 12.99s/it]"
     ]
    },
    {
     "name": "stdout",
     "output_type": "stream",
     "text": [
      "Epoch: 38; Validation Accuracy:86.1717333396276+/-1.5440163758945509%\n"
     ]
    },
    {
     "name": "stderr",
     "output_type": "stream",
     "text": [
      "\r",
      " 80%|████████  | 40/50 [08:41<02:11, 13.14s/it]"
     ]
    },
    {
     "name": "stdout",
     "output_type": "stream",
     "text": [
      "Epoch: 39; Validation Accuracy:85.99694271882376+/-1.0502920518171253%\n"
     ]
    },
    {
     "name": "stderr",
     "output_type": "stream",
     "text": [
      "\r",
      " 82%|████████▏ | 41/50 [08:54<01:57, 13.09s/it]"
     ]
    },
    {
     "name": "stdout",
     "output_type": "stream",
     "text": [
      "Epoch: 40; Validation Accuracy:86.22763802607855+/-1.4354230045436387%\n"
     ]
    },
    {
     "name": "stderr",
     "output_type": "stream",
     "text": [
      "\r",
      " 84%|████████▍ | 42/50 [09:08<01:44, 13.11s/it]"
     ]
    },
    {
     "name": "stdout",
     "output_type": "stream",
     "text": [
      "Epoch: 41; Validation Accuracy:86.3189255197843+/-0.9487618637135912%\n"
     ]
    },
    {
     "name": "stderr",
     "output_type": "stream",
     "text": [
      "\r",
      " 86%|████████▌ | 43/50 [09:21<01:32, 13.15s/it]"
     ]
    },
    {
     "name": "stdout",
     "output_type": "stream",
     "text": [
      "Epoch: 42; Validation Accuracy:85.99906613429388+/-1.7027626812143382%\n"
     ]
    },
    {
     "name": "stderr",
     "output_type": "stream",
     "text": [
      "\r",
      " 88%|████████▊ | 44/50 [09:35<01:20, 13.43s/it]"
     ]
    },
    {
     "name": "stdout",
     "output_type": "stream",
     "text": [
      "Epoch: 43; Validation Accuracy:86.38827552398047+/-1.3583615921189498%\n"
     ]
    },
    {
     "name": "stderr",
     "output_type": "stream",
     "text": [
      "\r",
      " 90%|█████████ | 45/50 [09:48<01:06, 13.38s/it]"
     ]
    },
    {
     "name": "stdout",
     "output_type": "stream",
     "text": [
      "Epoch: 44; Validation Accuracy:86.15262657403946+/-1.36330219626664%\n"
     ]
    },
    {
     "name": "stderr",
     "output_type": "stream",
     "text": [
      "\r",
      " 92%|█████████▏| 46/50 [10:01<00:53, 13.32s/it]"
     ]
    },
    {
     "name": "stdout",
     "output_type": "stream",
     "text": [
      "Epoch: 45; Validation Accuracy:86.49371614058813+/-1.8485023084958407%\n"
     ]
    },
    {
     "name": "stderr",
     "output_type": "stream",
     "text": [
      "\r",
      " 94%|█████████▍| 47/50 [10:15<00:40, 13.50s/it]"
     ]
    },
    {
     "name": "stdout",
     "output_type": "stream",
     "text": [
      "Epoch: 46; Validation Accuracy:86.53405209382376+/-1.0978876025226192%\n"
     ]
    },
    {
     "name": "stderr",
     "output_type": "stream",
     "text": [
      "\r",
      " 96%|█████████▌| 48/50 [10:28<00:26, 13.32s/it]"
     ]
    },
    {
     "name": "stdout",
     "output_type": "stream",
     "text": [
      "Epoch: 47; Validation Accuracy:86.37766093015671+/-1.8078657644762475%\n"
     ]
    },
    {
     "name": "stderr",
     "output_type": "stream",
     "text": [
      "\r",
      " 98%|█████████▊| 49/50 [10:41<00:13, 13.24s/it]"
     ]
    },
    {
     "name": "stdout",
     "output_type": "stream",
     "text": [
      "Epoch: 48; Validation Accuracy:86.41870468854904+/-1.5614818310865057%\n"
     ]
    },
    {
     "name": "stderr",
     "output_type": "stream",
     "text": [
      "100%|██████████| 50/50 [10:54<00:00, 13.10s/it]"
     ]
    },
    {
     "name": "stdout",
     "output_type": "stream",
     "text": [
      "Epoch: 49; Validation Accuracy:86.43922656774521+/-0.9772972848127157%\n"
     ]
    },
    {
     "name": "stderr",
     "output_type": "stream",
     "text": [
      "\n"
     ]
    }
   ],
   "source": [
    "# Initialize neural network model with input, output and hidden layer dimensions\n",
    "model = ACAIGFCN_Xavier(input_dim = 784, output_dim = 10, hidden1_dim = 128) #... add more parameters\n",
    "\n",
    "# Define the learning rate and epochs number\n",
    "learning_rate = 0.01\n",
    "epochs = 50\n",
    "\n",
    "\n",
    "train_loss_list = np.zeros((epochs,))\n",
    "validation_accuracy_list = np.zeros((epochs,))\n",
    "validation_acc_std_list = np.zeros((epochs,))\n",
    "\n",
    "# Define loss function  and optimizer\n",
    "loss_func = torch.nn.CrossEntropyLoss()# Use Cross Entropy loss from torch.nn\n",
    "optimizer = torch.optim.SGD(model.parameters(), lr=learning_rate)# Use optimizers from torch.optim\n",
    "#optimizer = torch.optim.Adam(model.parameters(), lr=learning_rate)\n",
    "#optimizer = torch.optim.Adadelta(model.parameters(), lr = learning_rate)\n",
    "\n",
    "# Iterate over epochs, batches with progress bar and train+ validate the ACAIGFCN\n",
    "# Track the loss and validation accuracy\n",
    "for epoch in tqdm.trange(epochs):\n",
    "    train_batch_loss = np.zeros((int(num_train_batches),))\n",
    "    counter = 0;\n",
    "\n",
    "    # ACAIGFCN Training\n",
    "    for train_features, train_labels in train_batches:\n",
    "        # Set model into training mode\n",
    "        model.train()\n",
    "\n",
    "        # Reshape images into a vector\n",
    "        train_features = train_features.reshape(-1, 28*28)\n",
    "\n",
    "        # Reset gradients, Calculate training loss on model\n",
    "        optimizer.zero_grad()\n",
    "\n",
    "        train_outputs = model(train_features)\n",
    "        loss = loss_func(train_outputs, train_labels)\n",
    "\n",
    "        # Perfrom optimization, back propagation\n",
    "        loss.backward()\n",
    "        optimizer.step()\n",
    "\n",
    "        train_batch_loss[counter] = loss\n",
    "\n",
    "        counter = counter + 1\n",
    "\n",
    "\n",
    "    # Record loss for the epoch\n",
    "    #train_loss_list[epoch] = loss.item()\n",
    "    train_loss_list[epoch] = np.sum(train_batch_loss)\n",
    "\n",
    "    #track validation accuracy for each validation batch\n",
    "    val_batch_acc = np.zeros((num_val_batches,))\n",
    "    counter = 0\n",
    "\n",
    "    # ACAIGFCN Validation\n",
    "    for val_features, val_labels in val_batches:\n",
    "\n",
    "        # Telling PyTorch we aren't passing inputs to network for training purpose\n",
    "        with torch.no_grad():\n",
    "            model.eval()\n",
    "\n",
    "             # Reshape validation images into a vector\n",
    "            val_features = val_features.reshape(-1, 28*28)\n",
    "\n",
    "            # Compute validation outputs (targets)\n",
    "            validation_outputs = model(val_features)\n",
    "            # and compute accuracy\n",
    "            correct = (torch.argmax(validation_outputs, dim=1) ==\n",
    "                   val_labels).type(torch.FloatTensor)\n",
    "\n",
    "            #record validation acc and std at this batch\n",
    "            val_batch_acc[counter] = correct.mean()\n",
    "            counter = counter + 1\n",
    "\n",
    "    # Record accuracy for the epoch; print training loss, validation accuracy\n",
    "    val_acc = np.mean(val_batch_acc)\n",
    "    val_std = np.std(val_batch_acc)\n",
    "    validation_accuracy_list[epoch] = val_acc\n",
    "    validation_acc_std_list[epoch] = val_std\n",
    "\n",
    "\n",
    "    print(\"Epoch: \"+ str(epoch) +\"; Validation Accuracy:\" + str(val_acc*100) + '+/-'+ str(val_std*100) + '%')\n"
   ]
  },
  {
   "cell_type": "code",
   "execution_count": null,
   "metadata": {
    "colab": {
     "base_uri": "https://localhost:8080/",
     "height": 479
    },
    "id": "jslhs7oXbQXC",
    "outputId": "29306655-feb5-43a0-ceca-6d4a44f8d260"
   },
   "outputs": [
    {
     "data": {
      "image/png": "[encoded data removed]",
      "text/plain": [
       "<Figure size 640x480 with 1 Axes>"
      ]
     },
     "metadata": {},
     "output_type": "display_data"
    }
   ],
   "source": [
    "plt.figure()\n",
    "plt.plot(train_loss_list)\n",
    "plt.title(\"Baseline: Loss vs Epoch\", fontsize = 16)\n",
    "plt.ylabel('Loss', fontsize = 14)\n",
    "plt.xlabel('epoch', fontsize = 14)\n",
    "plt.show()"
   ]
  },
  {
   "cell_type": "code",
   "execution_count": null,
   "metadata": {
    "colab": {
     "base_uri": "https://localhost:8080/",
     "height": 479
    },
    "id": "k1IAZHBYbQsj",
    "outputId": "8285b252-02bb-4ca7-f526-d1d021422cdd"
   },
   "outputs": [
    {
     "data": {
      "image/png": "[encoded data removed]",
      "text/plain": [
       "<Figure size 640x480 with 1 Axes>"
      ]
     },
     "metadata": {},
     "output_type": "display_data"
    }
   ],
   "source": [
    "plt.figure()\n",
    "plt.errorbar(y = validation_accuracy_list, x = np.arange(len(validation_accuracy_list)), yerr = validation_acc_std_list, fmt = '-o', markersize = '3')\n",
    "plt.title(\"Training: Validation Accuracy\", fontsize = 16)\n",
    "plt.ylabel('Accuracy', fontsize = 14)\n",
    "plt.xlabel('epoch', fontsize = 14)\n",
    "plt.ylim([.65,1])\n",
    "plt.show()"
   ]
  },
  {
   "cell_type": "code",
   "execution_count": null,
   "metadata": {
    "colab": {
     "base_uri": "https://localhost:8080/"
    },
    "id": "ZYYLeV2b41ji",
    "outputId": "88b95b8f-a9a3-4c07-a48d-8dc405b25354"
   },
   "outputs": [
    {
     "name": "stdout",
     "output_type": "stream",
     "text": [
      "Test Accuracy = 85.849609375+/-2.0697366165445383%\n"
     ]
    }
   ],
   "source": [
    "#Accuracy on Test Set:\n",
    "# Telling PyTorch we aren't passing inputs to network for training purpose\n",
    "with torch.no_grad():\n",
    "\n",
    "    test_batch_acc = np.zeros((num_test_batches,))\n",
    "    test_batch_std = np.zeros((num_test_batches,))\n",
    "    counter = 0\n",
    "    for test_features, test_labels in test_batches:\n",
    "\n",
    "        model.eval()\n",
    "        # Reshape test images into a vector\n",
    "        test_features = test_features.reshape(-1, 28*28)\n",
    "\n",
    "         # Compute validation outputs (targets)\n",
    "        test_outputs = model(test_features)\n",
    "\n",
    "\n",
    "         # and compute accuracy\n",
    "        correct = (torch.argmax(test_outputs, dim=1) ==\n",
    "                   test_labels).type(torch.FloatTensor)\n",
    "        #record test acc at this batch\n",
    "        test_batch_acc[counter] = correct.mean()\n",
    "        counter = counter + 1\n",
    "\n",
    "\n",
    "\n",
    "    # Compute total (mean) accuracy\n",
    "    test_acc = np.mean(test_batch_acc)\n",
    "    test_std = np.std(test_batch_acc)\n",
    "\n",
    "    # Report total (mean) accuracy, can also compute std based on batches\n",
    "    print(\"Test Accuracy = \"+  str(test_acc*100) + '+/-' + str(test_std*100) + '%')"
   ]
  },
  {
   "cell_type": "code",
   "execution_count": null,
   "metadata": {
    "id": "CG_QVkbMeUov"
   },
   "outputs": [],
   "source": [
    "np.savetxt('acc.csv', validation_accuracy_list, delimiter=',')\n",
    "np.savetxt('std.csv', validation_acc_std_list, delimiter=',')"
   ]
  },
  {
   "cell_type": "code",
   "execution_count": null,
   "metadata": {
    "id": "g7wo9NJ-kSHV"
   },
   "outputs": [],
   "source": [
    "np.savetxt('loss.csv', train_loss_list, delimiter=',')"
   ]
  },
  {
   "cell_type": "code",
   "execution_count": null,
   "metadata": {
    "id": "kTPhCCpROrye"
   },
   "outputs": [],
   "source": []
  }
 ],
 "metadata": {
  "accelerator": "GPU",
  "colab": {
   "gpuType": "T4",
   "provenance": []
  },
  "kernelspec": {
   "display_name": "Python 3 (ipykernel)",
   "language": "python",
   "name": "python3"
  },
  "language_info": {
   "codemirror_mode": {
    "name": "ipython",
    "version": 3
   },
   "file_extension": ".py",
   "mimetype": "text/x-python",
   "name": "python",
   "nbconvert_exporter": "python",
   "pygments_lexer": "ipython3",
   "version": "3.9.18"
  },
  "varInspector": {
   "cols": {
    "lenName": 16,
    "lenType": 16,
    "lenVar": 40
   },
   "kernels_config": {
    "python": {
     "delete_cmd_postfix": "",
     "delete_cmd_prefix": "del ",
     "library": "var_list.py",
     "varRefreshCmd": "print(var_dic_list())"
    },
    "r": {
     "delete_cmd_postfix": ") ",
     "delete_cmd_prefix": "rm(",
     "library": "var_list.r",
     "varRefreshCmd": "cat(var_dic_list()) "
    }
   },
   "types_to_exclude": [
    "module",
    "function",
    "builtin_function_or_method",
    "instance",
    "_Feature"
   ],
   "window_display": false
  }
 },
 "nbformat": 4,
 "nbformat_minor": 1
}
