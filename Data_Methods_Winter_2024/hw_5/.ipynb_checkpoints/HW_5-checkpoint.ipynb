{
 "cells": [
  {
   "cell_type": "code",
   "execution_count": 95,
   "metadata": {
    "id": "xHshJPXlwSED"
   },
   "outputs": [],
   "source": [
    "import numpy as np\n",
    "import torch\n",
    "from torch import nn\n",
    "import tqdm\n",
    "\n",
    "import torchvision\n",
    "import matplotlib.pyplot as plt\n",
    "from torch.utils.data import DataLoader, Subset\n",
    "from sklearn.model_selection import train_test_split\n",
    "\n",
    "import tensorflow as tf"
   ]
  },
  {
   "cell_type": "code",
   "execution_count": 96,
   "metadata": {
    "colab": {
     "base_uri": "https://localhost:8080/"
    },
    "id": "3i0vc9VrnwNO",
    "outputId": "8c000d5d-b2fe-4b9c-9509-9cfb57fa0c48"
   },
   "outputs": [
    {
     "name": "stdout",
     "output_type": "stream",
     "text": [
      "106\n",
      "12\n",
      "40\n"
     ]
    }
   ],
   "source": [
    "# Use the following code to load and normalize the dataset for training and testing\n",
    "# It will downlad the dataset into data subfolder (change to your data folder name)\n",
    "train_dataset = torchvision.datasets.FashionMNIST('data/', train=True, download=True,\n",
    "                             transform=torchvision.transforms.Compose([\n",
    "                               torchvision.transforms.ToTensor(),\n",
    "                               torchvision.transforms.Normalize(\n",
    "                                 (0.1307,), (0.3081,))\n",
    "                             ]))\n",
    "\n",
    "test_dataset = torchvision.datasets.FashionMNIST('data/', train=False, download=True,\n",
    "                             transform=torchvision.transforms.Compose([\n",
    "                               torchvision.transforms.ToTensor(),\n",
    "                               torchvision.transforms.Normalize(\n",
    "                                 (0.1307,), (0.3081,))\n",
    "                             ]))\n",
    "\n",
    "\n",
    "# Use the following code to create a validation set of 10%\n",
    "train_indices, val_indices, _, _ = train_test_split(\n",
    "    range(len(train_dataset)),\n",
    "    train_dataset.targets,\n",
    "    stratify=train_dataset.targets,\n",
    "    test_size=0.1,\n",
    ")\n",
    "\n",
    "# Generate training and validation subsets based on indices\n",
    "train_split = Subset(train_dataset, train_indices)\n",
    "val_split = Subset(train_dataset, val_indices)\n",
    "\n",
    "\n",
    "# set batches sizes\n",
    "train_batch_size = 512 #Define train batch size\n",
    "test_batch_size  = 256 #Define test batch size (can be larger than train batch size)\n",
    "\n",
    "\n",
    "# Define dataloader objects that help to iterate over batches and samples for\n",
    "# training, validation and testing\n",
    "train_batches = DataLoader(train_split, batch_size=train_batch_size, shuffle=True)\n",
    "val_batches = DataLoader(val_split, batch_size=train_batch_size, shuffle=True)\n",
    "test_batches = DataLoader(test_dataset, batch_size=test_batch_size, shuffle=True)\n",
    "\n",
    "num_train_batches=len(train_batches)\n",
    "num_val_batches=len(val_batches)\n",
    "num_test_batches=len(test_batches)\n",
    "\n",
    "\n",
    "print(num_train_batches)\n",
    "print(num_val_batches)\n",
    "print(num_test_batches)\n",
    "\n",
    "\n",
    "#Sample code to visulaize the first sample in first 16 batches\n",
    "\n",
    "# batch_num = 0\n",
    "# for train_features, train_labels in train_batches:\n",
    "\n",
    "#     if batch_num == 16:\n",
    "#         break    # break here\n",
    "\n",
    "#     batch_num = batch_num +1\n",
    "#     print(f\"Feature batch shape: {train_features.size()}\")\n",
    "#     print(f\"Labels batch shape: {train_labels.size()}\")\n",
    "\n",
    "#     img = train_features[0].squeeze()\n",
    "#     label = train_labels[0]\n",
    "#     plt.imshow(img, cmap=\"gray\")\n",
    "#     plt.show()\n",
    "#     print(f\"Label: {label}\")\n",
    "\n",
    "\n",
    "\n",
    "# #Sample code to plot N^2 images from the dataset\n",
    "# def plot_images(XX, N, title):\n",
    "#     fig, ax = plt.subplots(N, N, figsize=(8, 8))\n",
    "\n",
    "#     for i in range(N):\n",
    "#       for j in range(N):\n",
    "#         ax[i,j].imshow(XX[(N)*i+j], cmap=\"Greys\")\n",
    "#         ax[i,j].axis(\"off\")\n",
    "#     fig.suptitle(title, fontsize=24)\n",
    "\n",
    "# plot_images(train_dataset.data[:64], 8, \"First 64 Training Images\")"
   ]
  },
  {
   "cell_type": "markdown",
   "metadata": {
    "id": "4E1XDiDYq8Wf"
   },
   "source": [
    "Baseline FCN"
   ]
  },
  {
   "cell_type": "code",
   "execution_count": 97,
   "metadata": {
    "id": "ufEqY7eKq8D6"
   },
   "outputs": [],
   "source": [
    "import torch.nn.init as init\n",
    "\n",
    "class Baseline(nn.Module):\n",
    "    def __init__(self):\n",
    "        super(Baseline, self).__init__()\n",
    "        self.fc1 = nn.Linear(784, 128)\n",
    "        self.bn1 = nn.BatchNorm1d(128)\n",
    "        self.fc2 = nn.Linear(128, 10)\n",
    "\n",
    "    def forward(self, x):\n",
    "        x = torch.flatten(x, 1)\n",
    "        x = self.bn1(torch.relu(self.fc1(x)))\n",
    "        x = self.fc2(x)\n",
    "        return x\n",
    "\n",
    "\n",
    "class Baseline50k(nn.Module):\n",
    "    def __init__(self):\n",
    "        super(Baseline50k, self).__init__()\n",
    "        self.fc1 = nn.Linear(784, 64)\n",
    "        self.bn1 = nn.BatchNorm1d(64)\n",
    "        self.fc2 = nn.Linear(64, 10)\n",
    "\n",
    "    def forward(self, x):\n",
    "        x = torch.flatten(x, 1)\n",
    "        x = self.bn1(torch.relu(self.fc1(x)))\n",
    "        x = self.fc2(x)\n",
    "        return x\n",
    "\n",
    "class Baseline200k(nn.Module):\n",
    "    def __init__(self):\n",
    "        super(Baseline200k, self).__init__()\n",
    "        self.fc1 = nn.Linear(784, 256)\n",
    "        self.bn1 = nn.BatchNorm1d(256)\n",
    "        self.fc2 = nn.Linear(256, 10)\n",
    "\n",
    "    def forward(self, x):\n",
    "        x = torch.flatten(x, 1)\n",
    "        x = self.bn1(torch.relu(self.fc1(x)))\n",
    "        x = self.fc2(x)\n",
    "        return x\n",
    "\n",
    "class Baseline20k(nn.Module):\n",
    "    def __init__(self):\n",
    "        super(Baseline20k, self).__init__()\n",
    "        self.fc1 = nn.Linear(784, 32)\n",
    "        self.bn1 = nn.BatchNorm1d(32)\n",
    "        self.fc2 = nn.Linear(32, 10)\n",
    "\n",
    "    def forward(self, x):\n",
    "        x = torch.flatten(x, 1)\n",
    "        x = self.bn1(torch.relu(self.fc1(x)))\n",
    "        x = self.fc2(x)\n",
    "        return x\n",
    "\n",
    "class Baseline10k(nn.Module):\n",
    "    def __init__(self):\n",
    "        super(Baseline10k, self).__init__()\n",
    "        self.fc1 = nn.Linear(784, 16)\n",
    "        self.bn1 = nn.BatchNorm1d(16)\n",
    "        self.fc2 = nn.Linear(16, 10)\n",
    "\n",
    "    def forward(self, x):\n",
    "        x = torch.flatten(x, 1)\n",
    "        x = self.bn1(torch.relu(self.fc1(x)))\n",
    "        x = self.fc2(x)\n",
    "        return x\n"
   ]
  },
  {
   "cell_type": "code",
   "execution_count": 90,
   "metadata": {
    "id": "Pfi5-auvzfQ3"
   },
   "outputs": [],
   "source": [
    "#CNNs\n",
    "class CNN100k(nn.Module):\n",
    "    def __init__(self):\n",
    "        super(CNN100k, self).__init__()\n",
    "        # Convolutional layers\n",
    "        self.conv1 = nn.Conv2d(1, 6, 5)  # 1 input channel, 6 output channels, 5x5 kernel\n",
    "        self.pool2 = nn.MaxPool2d(2, 2)  # Max pooling with 2x2 kernel and stride 2\n",
    "        self.conv3 = nn.Conv2d(6, 16, 6)  # 6 input channels, 16 output channels, 4x4 kernel\n",
    "\n",
    "        # Fully connected layers\n",
    "        self.fc4 = nn.Linear(16 * 7 * 7, 128)  # Flattened input from conv3, 128 output nodes\n",
    "        self.bn4 = nn.BatchNorm1d(128) #Batch normalization\n",
    "        self.fc5 = nn.Linear(128,10)# 128 input nodes, 10 output nodes (for 10 classes)\n",
    "\n",
    "    def forward(self, x):\n",
    "        # Convolutional layers with ReLU activation function and max pooling\n",
    "        x = self.pool2(torch.relu(self.conv1(x)))  # First convolutional layer followed by pooling\n",
    "        x = torch.relu(self.conv3(x))  # Second convolutional layer followed by pooling\n",
    "\n",
    "\n",
    "        # Flatten the output of conv3 layer\n",
    "        batch_size = x.size(0)  # Get the batch size\n",
    "        x = x.view(batch_size, -1)  # Flatten to a 2D tensor while preserving batch size\n",
    "\n",
    "        # Fully connected layers with ReLU activation function\n",
    "        x = self.bn4(torch.relu(self.fc4(x)))\n",
    "        x = self.fc5(x)  # No activation function for the output layer as it's a classification task\n",
    "        return x\n",
    "\n",
    "\n",
    "#CNNs\n",
    "class CNN50k(nn.Module):\n",
    "    def __init__(self):\n",
    "        super(CNN50k, self).__init__()\n",
    "        # Convolutional layers\n",
    "        self.conv1 = nn.Conv2d(1, 6, 5)  # 1 input channel, 6 output channels, 5x5 kernel\n",
    "        self.pool2 = nn.MaxPool2d(2, 2)  # Max pooling with 2x2 kernel and stride 2\n",
    "        self.conv3 = nn.Conv2d(6, 16, 6)  # 6 input channels, 16 output channels, 4x4 kernel\n",
    "\n",
    "        # Fully connected layers\n",
    "        self.fc4 = nn.Linear(16 * 7 * 7, 64)  # Flattened input from conv3, 128 output nodes\n",
    "        self.bn4 = nn.BatchNorm1d(64) #Batch normalization\n",
    "        self.fc5 = nn.Linear(64,10)# 128 input nodes, 10 output nodes (for 10 classes)\n",
    "\n",
    "    def forward(self, x):\n",
    "        # Convolutional layers with ReLU activation function and max pooling\n",
    "        x = self.pool2(torch.relu(self.conv1(x)))  # First convolutional layer followed by pooling\n",
    "        x = torch.relu(self.conv3(x))  # Second convolutional layer followed by pooling\n",
    "\n",
    "\n",
    "        # Flatten the output of conv3 layer\n",
    "        batch_size = x.size(0)  # Get the batch size\n",
    "        x = x.view(batch_size, -1)  # Flatten to a 2D tensor while preserving batch size\n",
    "\n",
    "        # Fully connected layers with ReLU activation function\n",
    "        x = self.bn4(torch.relu(self.fc4(x)))\n",
    "        x = self.fc5(x)  # No activation function for the output layer as it's a classification task\n",
    "        return x\n",
    "\n",
    "#CNNs\n",
    "class CNN20k(nn.Module):\n",
    "    def __init__(self):\n",
    "        super(CNN20k, self).__init__()\n",
    "        # Convolutional layers\n",
    "        self.conv1 = nn.Conv2d(1, 6, 5)  # 1 input channel, 6 output channels, 5x5 kernel\n",
    "        self.pool2 = nn.MaxPool2d(2, 2)  # Max pooling with 2x2 kernel and stride 2\n",
    "        self.conv3 = nn.Conv2d(6, 16, 6)  # 6 input channels, 16 output channels, 4x4 kernel\n",
    "\n",
    "        # Fully connected layers\n",
    "        self.fc4 = nn.Linear(16 * 7 * 7, 32)  # Flattened input from conv3, 32 output nodes\n",
    "        self.bn4 = nn.BatchNorm1d(32) #Batch normalization\n",
    "        self.fc5 = nn.Linear(32,10)# 128 input nodes, 10 output nodes (for 10 classes)\n",
    "\n",
    "    def forward(self, x):\n",
    "        # Convolutional layers with ReLU activation function and max pooling\n",
    "        x = self.pool2(torch.relu(self.conv1(x)))  # First convolutional layer followed by pooling\n",
    "        x = torch.relu(self.conv3(x))  # Second convolutional layer followed by pooling\n",
    "\n",
    "\n",
    "        # Flatten the output of conv3 layer\n",
    "        batch_size = x.size(0)  # Get the batch size\n",
    "        x = x.view(batch_size, -1)  # Flatten to a 2D tensor while preserving batch size\n",
    "\n",
    "        # Fully connected layers with ReLU activation function\n",
    "        x = self.bn4(torch.relu(self.fc4(x)))\n",
    "        x = self.fc5(x)  # No activation function for the output layer as it's a classification task\n",
    "        return x\n",
    "\n",
    "#CNNs\n",
    "class CNN10k(nn.Module):\n",
    "    def __init__(self):\n",
    "        super(CNN10k, self).__init__()\n",
    "        # Convolutional layers\n",
    "        self.conv1 = nn.Conv2d(1, 6, 5)  # 1 input channel, 6 output channels, 5x5 kernel\n",
    "        self.pool2 = nn.MaxPool2d(2, 2)  # Max pooling with 2x2 kernel and stride 2\n",
    "        self.conv3 = nn.Conv2d(6, 16, 6)  # 6 input channels, 16 output channels, 4x4 kernel\n",
    "\n",
    "        # Fully connected layers\n",
    "        self.fc4 = nn.Linear(16 * 7 * 7, 16)  # Flattened input from conv3, 16 output nodes\n",
    "        self.bn4 = nn.BatchNorm1d(16) #Batch normalization\n",
    "        self.fc5 = nn.Linear(16,10)# 128 input nodes, 10 output nodes (for 10 classes)\n",
    "\n",
    "    def forward(self, x):\n",
    "        # Convolutional layers with ReLU activation function and max pooling\n",
    "        x = self.pool2(torch.relu(self.conv1(x)))  # First convolutional layer followed by pooling\n",
    "        x = torch.relu(self.conv3(x))  # Second convolutional layer followed by pooling\n",
    "\n",
    "\n",
    "        # Flatten the output of conv3 layer\n",
    "        batch_size = x.size(0)  # Get the batch size\n",
    "        x = x.view(batch_size, -1)  # Flatten to a 2D tensor while preserving batch size\n",
    "\n",
    "        # Fully connected layers with ReLU activation function\n",
    "        x = self.bn4(torch.relu(self.fc4(x)))\n",
    "        x = self.fc5(x)  # No activation function for the output layer as it's a classification task\n",
    "        return x"
   ]
  },
  {
   "cell_type": "code",
   "execution_count": 102,
   "metadata": {
    "colab": {
     "base_uri": "https://localhost:8080/"
    },
    "id": "rUTrBhQGwEea",
    "outputId": "2f9b667f-2a7a-4585-ecde-4bdffb75c066"
   },
   "outputs": [
    {
     "name": "stderr",
     "output_type": "stream",
     "text": [
      "  4%|▍         | 1/25 [00:18<07:34, 18.93s/it]"
     ]
    },
    {
     "name": "stdout",
     "output_type": "stream",
     "text": [
      "Epoch: 0; Validation Accuracy:84.87177292505899+/-1.4664347333966554%\n"
     ]
    },
    {
     "name": "stderr",
     "output_type": "stream",
     "text": [
      "\r",
      "  8%|▊         | 2/25 [00:38<07:20, 19.17s/it]"
     ]
    },
    {
     "name": "stdout",
     "output_type": "stream",
     "text": [
      "Epoch: 1; Validation Accuracy:85.888671875+/-1.5152461571467677%\n"
     ]
    },
    {
     "name": "stderr",
     "output_type": "stream",
     "text": [
      "\r",
      " 12%|█▏        | 3/25 [00:55<06:39, 18.15s/it]"
     ]
    },
    {
     "name": "stdout",
     "output_type": "stream",
     "text": [
      "Epoch: 2; Validation Accuracy:86.60835574070612+/-1.267837839390367%\n"
     ]
    },
    {
     "name": "stderr",
     "output_type": "stream",
     "text": [
      "\r",
      " 16%|█▌        | 4/25 [01:12<06:17, 17.96s/it]"
     ]
    },
    {
     "name": "stdout",
     "output_type": "stream",
     "text": [
      "Epoch: 3; Validation Accuracy:86.88434114058813+/-0.9930048786400284%\n"
     ]
    },
    {
     "name": "stderr",
     "output_type": "stream",
     "text": [
      "\r",
      " 20%|██        | 5/25 [01:29<05:51, 17.60s/it]"
     ]
    },
    {
     "name": "stdout",
     "output_type": "stream",
     "text": [
      "Epoch: 4; Validation Accuracy:87.63940781354904+/-1.2221450502794025%\n"
     ]
    },
    {
     "name": "stderr",
     "output_type": "stream",
     "text": [
      "\r",
      " 24%|██▍       | 6/25 [01:48<05:40, 17.92s/it]"
     ]
    },
    {
     "name": "stdout",
     "output_type": "stream",
     "text": [
      "Epoch: 5; Validation Accuracy:87.18084792296091+/-1.301546846899357%\n"
     ]
    },
    {
     "name": "stderr",
     "output_type": "stream",
     "text": [
      "\r",
      " 28%|██▊       | 7/25 [02:05<05:18, 17.69s/it]"
     ]
    },
    {
     "name": "stdout",
     "output_type": "stream",
     "text": [
      "Epoch: 6; Validation Accuracy:87.57288853327432+/-1.6802574830644692%\n"
     ]
    },
    {
     "name": "stderr",
     "output_type": "stream",
     "text": [
      "\r",
      " 32%|███▏      | 8/25 [02:22<04:55, 17.39s/it]"
     ]
    },
    {
     "name": "stdout",
     "output_type": "stream",
     "text": [
      "Epoch: 7; Validation Accuracy:87.53609011570612+/-0.9235845758261277%\n"
     ]
    },
    {
     "name": "stderr",
     "output_type": "stream",
     "text": [
      "\r",
      " 36%|███▌      | 9/25 [02:39<04:35, 17.23s/it]"
     ]
    },
    {
     "name": "stdout",
     "output_type": "stream",
     "text": [
      "Epoch: 8; Validation Accuracy:87.36059218645096+/-0.9499265486081374%\n"
     ]
    },
    {
     "name": "stderr",
     "output_type": "stream",
     "text": [
      "\r",
      " 40%|████      | 10/25 [02:57<04:23, 17.57s/it]"
     ]
    },
    {
     "name": "stdout",
     "output_type": "stream",
     "text": [
      "Epoch: 9; Validation Accuracy:87.47664739688238+/-1.350578145963661%\n"
     ]
    },
    {
     "name": "stderr",
     "output_type": "stream",
     "text": [
      "\r",
      " 44%|████▍     | 11/25 [03:13<04:00, 17.19s/it]"
     ]
    },
    {
     "name": "stdout",
     "output_type": "stream",
     "text": [
      "Epoch: 10; Validation Accuracy:87.93803801139197+/-1.545910245971436%\n"
     ]
    },
    {
     "name": "stderr",
     "output_type": "stream",
     "text": [
      "\r",
      " 48%|████▊     | 12/25 [03:30<03:40, 16.95s/it]"
     ]
    },
    {
     "name": "stdout",
     "output_type": "stream",
     "text": [
      "Epoch: 11; Validation Accuracy:88.2359599073728+/-1.609955153445703%\n"
     ]
    },
    {
     "name": "stderr",
     "output_type": "stream",
     "text": [
      "\r",
      " 52%|█████▏    | 13/25 [03:46<03:21, 16.77s/it]"
     ]
    },
    {
     "name": "stdout",
     "output_type": "stream",
     "text": [
      "Epoch: 12; Validation Accuracy:87.99394269784293+/-1.9717029385168214%\n"
     ]
    },
    {
     "name": "stderr",
     "output_type": "stream",
     "text": [
      "\r",
      " 56%|█████▌    | 14/25 [04:03<03:05, 16.88s/it]"
     ]
    },
    {
     "name": "stdout",
     "output_type": "stream",
     "text": [
      "Epoch: 13; Validation Accuracy:87.81207551558813+/-1.290375019615708%\n"
     ]
    },
    {
     "name": "stderr",
     "output_type": "stream",
     "text": [
      "\r",
      " 60%|██████    | 15/25 [04:20<02:47, 16.76s/it]"
     ]
    },
    {
     "name": "stdout",
     "output_type": "stream",
     "text": [
      "Epoch: 14; Validation Accuracy:88.52326770623526+/-1.4577787950965146%\n"
     ]
    },
    {
     "name": "stderr",
     "output_type": "stream",
     "text": [
      "\r",
      " 64%|██████▍   | 16/25 [04:36<02:29, 16.63s/it]"
     ]
    },
    {
     "name": "stdout",
     "output_type": "stream",
     "text": [
      "Epoch: 15; Validation Accuracy:88.01092604796091+/-1.1358082622473973%\n"
     ]
    },
    {
     "name": "stderr",
     "output_type": "stream",
     "text": [
      "\r",
      " 68%|██████▊   | 17/25 [04:53<02:14, 16.75s/it]"
     ]
    },
    {
     "name": "stdout",
     "output_type": "stream",
     "text": [
      "Epoch: 16; Validation Accuracy:87.1001755197843+/-1.3668202435874959%\n"
     ]
    },
    {
     "name": "stderr",
     "output_type": "stream",
     "text": [
      "\r",
      " 72%|███████▏  | 18/25 [05:12<02:01, 17.29s/it]"
     ]
    },
    {
     "name": "stdout",
     "output_type": "stream",
     "text": [
      "Epoch: 17; Validation Accuracy:87.73635625839233+/-1.6850729565642677%\n"
     ]
    },
    {
     "name": "stderr",
     "output_type": "stream",
     "text": [
      "\r",
      " 76%|███████▌  | 19/25 [05:29<01:44, 17.38s/it]"
     ]
    },
    {
     "name": "stdout",
     "output_type": "stream",
     "text": [
      "Epoch: 18; Validation Accuracy:86.95864478747049+/-1.7635500737677592%\n"
     ]
    },
    {
     "name": "stderr",
     "output_type": "stream",
     "text": [
      "\r",
      " 80%|████████  | 20/25 [05:46<01:25, 17.15s/it]"
     ]
    },
    {
     "name": "stdout",
     "output_type": "stream",
     "text": [
      "Epoch: 19; Validation Accuracy:87.09592968225479+/-1.2944033151640253%\n"
     ]
    },
    {
     "name": "stderr",
     "output_type": "stream",
     "text": [
      "\r",
      " 84%|████████▍ | 21/25 [06:03<01:08, 17.18s/it]"
     ]
    },
    {
     "name": "stdout",
     "output_type": "stream",
     "text": [
      "Epoch: 20; Validation Accuracy:87.13909635941187+/-1.644232808835504%\n"
     ]
    },
    {
     "name": "stderr",
     "output_type": "stream",
     "text": [
      "\r",
      " 88%|████████▊ | 22/25 [06:21<00:52, 17.48s/it]"
     ]
    },
    {
     "name": "stdout",
     "output_type": "stream",
     "text": [
      "Epoch: 21; Validation Accuracy:88.13264270623526+/-1.4173988737046939%\n"
     ]
    },
    {
     "name": "stderr",
     "output_type": "stream",
     "text": [
      "\r",
      " 92%|█████████▏| 23/25 [06:38<00:34, 17.28s/it]"
     ]
    },
    {
     "name": "stdout",
     "output_type": "stream",
     "text": [
      "Epoch: 22; Validation Accuracy:87.26010521252951+/-1.2804360073326686%\n"
     ]
    },
    {
     "name": "stderr",
     "output_type": "stream",
     "text": [
      "\r",
      " 96%|█████████▌| 24/25 [06:55<00:17, 17.06s/it]"
     ]
    },
    {
     "name": "stdout",
     "output_type": "stream",
     "text": [
      "Epoch: 23; Validation Accuracy:87.9847432176272+/-0.8964998676102747%\n"
     ]
    },
    {
     "name": "stderr",
     "output_type": "stream",
     "text": [
      "100%|██████████| 25/25 [07:11<00:00, 17.27s/it]"
     ]
    },
    {
     "name": "stdout",
     "output_type": "stream",
     "text": [
      "Epoch: 24; Validation Accuracy:86.91830833752951+/-1.0155158815969851%\n"
     ]
    },
    {
     "name": "stderr",
     "output_type": "stream",
     "text": [
      "\n"
     ]
    }
   ],
   "source": [
    "# Initialize neural network model with input, output and hidden layer dimensions\n",
    "model = Baseline50k() #... add more parameters\n",
    "\n",
    "# Define the learning rate and epochs number\n",
    "learning_rate = 0.01\n",
    "epochs = 25\n",
    "\n",
    "\n",
    "train_loss_list = np.zeros((epochs,))\n",
    "validation_accuracy_list = np.zeros((epochs,))\n",
    "validation_acc_std_list = np.zeros((epochs,))\n",
    "\n",
    "# Define loss function  and optimizer\n",
    "loss_func = torch.nn.CrossEntropyLoss()# Use Cross Entropy loss from torch.nn\n",
    "#optimizer = torch.optim.SGD(model.parameters(), lr=learning_rate)# Use optimizers from torch.optim\n",
    "optimizer = torch.optim.Adam(model.parameters(), lr=learning_rate)\n",
    "#optimizer = torch.optim.Adadelta(model.parameters(), lr = learning_rate)\n",
    "\n",
    "# Iterate over epochs, batches with progress bar and train+ validate the ACAIGFCN\n",
    "# Track the loss and validation accuracy\n",
    "for epoch in tqdm.trange(epochs):\n",
    "    train_batch_loss = np.zeros((int(num_train_batches),))\n",
    "    counter = 0;\n",
    "\n",
    "    # ACAIGFCN Training\n",
    "    for train_features, train_labels in train_batches:\n",
    "        # Set model into training mode\n",
    "        model.train()\n",
    "\n",
    "        # Reshape images into a vector (For FCN, dont need to for CNN)\n",
    "        train_features = train_features.reshape(-1, 28,28)\n",
    "\n",
    "\n",
    "        # Reset gradients, Calculate training loss on model\n",
    "        optimizer.zero_grad()\n",
    "\n",
    "\n",
    "        train_outputs = model(train_features)\n",
    "\n",
    "        loss = loss_func(train_outputs, train_labels)\n",
    "\n",
    "        # Perfrom optimization, back propagation\n",
    "        loss.backward()\n",
    "        optimizer.step()\n",
    "\n",
    "        train_batch_loss[counter] = loss\n",
    "\n",
    "        counter = counter + 1\n",
    "\n",
    "\n",
    "    # Record loss for the epoch\n",
    "    #train_loss_list[epoch] = loss.item()\n",
    "    train_loss_list[epoch] = np.sum(train_batch_loss)\n",
    "\n",
    "    #track validation accuracy for each validation batch\n",
    "    val_batch_acc = np.zeros((num_val_batches,))\n",
    "    counter = 0\n",
    "\n",
    "    # ACAIGFCN Validation\n",
    "    for val_features, val_labels in val_batches:\n",
    "\n",
    "        # Telling PyTorch we aren't passing inputs to network for training purpose\n",
    "        with torch.no_grad():\n",
    "            model.eval()\n",
    "\n",
    "             # Reshape validation images into a vector (For FCN, dont need to for CNN)\n",
    "            val_features = val_features.reshape(-1, 28*28)\n",
    "\n",
    "            # Compute validation outputs (targets)\n",
    "            validation_outputs = model(val_features)\n",
    "            # and compute accuracy\n",
    "            correct = (torch.argmax(validation_outputs, dim=1) ==\n",
    "                   val_labels).type(torch.FloatTensor)\n",
    "\n",
    "            #record validation acc and std at this batch\n",
    "            val_batch_acc[counter] = correct.mean()\n",
    "            counter = counter + 1\n",
    "\n",
    "    # Record accuracy for the epoch; print training loss, validation accuracy\n",
    "    val_acc = np.mean(val_batch_acc)\n",
    "    val_std = np.std(val_batch_acc)\n",
    "    validation_accuracy_list[epoch] = val_acc\n",
    "    validation_acc_std_list[epoch] = val_std\n",
    "\n",
    "\n",
    "    print(\"Epoch: \"+ str(epoch) +\"; Validation Accuracy:\" + str(val_acc*100) + '+/-'+ str(val_std*100) + '%')\n"
   ]
  },
  {
   "cell_type": "code",
   "execution_count": 103,
   "metadata": {
    "colab": {
     "base_uri": "https://localhost:8080/",
     "height": 479
    },
    "id": "OxjRlLOlwJ29",
    "outputId": "290b5831-9b8d-4089-b1fd-1a1339578d72"
   },
   "outputs": [
    {
     "data": {
      "image/png": "[encoded data removed]",
      "text/plain": [
       "<Figure size 640x480 with 1 Axes>"
      ]
     },
     "metadata": {},
     "output_type": "display_data"
    }
   ],
   "source": [
    "plt.figure()\n",
    "plt.plot(train_loss_list)\n",
    "plt.title(\"Baseline: Loss vs Epoch\", fontsize = 16)\n",
    "plt.ylabel('Loss', fontsize = 14)\n",
    "plt.xlabel('epoch', fontsize = 14)\n",
    "plt.show()"
   ]
  },
  {
   "cell_type": "code",
   "execution_count": 104,
   "metadata": {
    "colab": {
     "base_uri": "https://localhost:8080/",
     "height": 479
    },
    "id": "ovbyHS-_wKdG",
    "outputId": "66994381-7ce0-4f37-8e02-df1d7527af71"
   },
   "outputs": [
    {
     "data": {
      "image/png": "[encoded data removed]",
      "text/plain": [
       "<Figure size 640x480 with 1 Axes>"
      ]
     },
     "metadata": {},
     "output_type": "display_data"
    }
   ],
   "source": [
    "plt.figure()\n",
    "plt.errorbar(y = validation_accuracy_list, x = np.arange(len(validation_accuracy_list)), yerr = validation_acc_std_list, fmt = '-o', markersize = '3')\n",
    "plt.title(\"Training: Validation Accuracy\", fontsize = 16)\n",
    "plt.ylabel('Accuracy', fontsize = 14)\n",
    "plt.xlabel('epoch', fontsize = 14)\n",
    "plt.ylim([.65,1])\n",
    "plt.show()"
   ]
  },
  {
   "cell_type": "code",
   "execution_count": 105,
   "metadata": {
    "colab": {
     "base_uri": "https://localhost:8080/"
    },
    "id": "YARTBKfhwMwI",
    "outputId": "9a750b17-42b4-403a-dda6-d0563c8a60c5"
   },
   "outputs": [
    {
     "name": "stdout",
     "output_type": "stream",
     "text": [
      "Test Accuracy = 86.455078125+/-1.784492619741564%\n"
     ]
    }
   ],
   "source": [
    "#Accuracy on Test Set:\n",
    "# Telling PyTorch we aren't passing inputs to network for training purpose\n",
    "with torch.no_grad():\n",
    "\n",
    "    test_batch_acc = np.zeros((num_test_batches,))\n",
    "    test_batch_std = np.zeros((num_test_batches,))\n",
    "    counter = 0\n",
    "    for test_features, test_labels in test_batches:\n",
    "\n",
    "        model.eval()\n",
    "        # Reshape test images into a vector\n",
    "        #test_features = test_features.reshape(-1, 28*28)\n",
    "\n",
    "         # Compute validation outputs (targets)\n",
    "        test_outputs = model(test_features)\n",
    "\n",
    "\n",
    "         # and compute accuracy\n",
    "        correct = (torch.argmax(test_outputs, dim=1) ==\n",
    "                   test_labels).type(torch.FloatTensor)\n",
    "        #record test acc at this batch\n",
    "        test_batch_acc[counter] = correct.mean()\n",
    "        counter = counter + 1\n",
    "\n",
    "\n",
    "\n",
    "    # Compute total (mean) accuracy\n",
    "    test_acc = np.mean(test_batch_acc)\n",
    "    test_std = np.std(test_batch_acc)\n",
    "\n",
    "    # Report total (mean) accuracy, can also compute std based on batches\n",
    "    print(\"Test Accuracy = \"+  str(test_acc*100) + '+/-' + str(test_std*100) + '%')"
   ]
  },
  {
   "cell_type": "markdown",
   "metadata": {
    "id": "0zHoPIhI6ymo"
   },
   "source": [
    "Save The data into the drive folder"
   ]
  },
  {
   "cell_type": "code",
   "execution_count": 47,
   "metadata": {
    "colab": {
     "base_uri": "https://localhost:8080/"
    },
    "id": "eTod9Cti74xG",
    "outputId": "7bffdda6-d8d3-4389-814e-1beb67105d09"
   },
   "outputs": [
    {
     "name": "stdout",
     "output_type": "stream",
     "text": [
      "Requirement already satisfied: gspread in /usr/local/lib/python3.10/dist-packages (3.4.2)\n",
      "Requirement already satisfied: oauth2client in /usr/local/lib/python3.10/dist-packages (4.1.3)\n",
      "Requirement already satisfied: requests>=2.2.1 in /usr/local/lib/python3.10/dist-packages (from gspread) (2.31.0)\n",
      "Requirement already satisfied: google-auth in /usr/local/lib/python3.10/dist-packages (from gspread) (2.27.0)\n",
      "Requirement already satisfied: httplib2>=0.9.1 in /usr/local/lib/python3.10/dist-packages (from oauth2client) (0.22.0)\n",
      "Requirement already satisfied: pyasn1>=0.1.7 in /usr/local/lib/python3.10/dist-packages (from oauth2client) (0.5.1)\n",
      "Requirement already satisfied: pyasn1-modules>=0.0.5 in /usr/local/lib/python3.10/dist-packages (from oauth2client) (0.3.0)\n",
      "Requirement already satisfied: rsa>=3.1.4 in /usr/local/lib/python3.10/dist-packages (from oauth2client) (4.9)\n",
      "Requirement already satisfied: six>=1.6.1 in /usr/local/lib/python3.10/dist-packages (from oauth2client) (1.16.0)\n",
      "Requirement already satisfied: pyparsing!=3.0.0,!=3.0.1,!=3.0.2,!=3.0.3,<4,>=2.4.2 in /usr/local/lib/python3.10/dist-packages (from httplib2>=0.9.1->oauth2client) (3.1.1)\n",
      "Requirement already satisfied: charset-normalizer<4,>=2 in /usr/local/lib/python3.10/dist-packages (from requests>=2.2.1->gspread) (3.3.2)\n",
      "Requirement already satisfied: idna<4,>=2.5 in /usr/local/lib/python3.10/dist-packages (from requests>=2.2.1->gspread) (3.6)\n",
      "Requirement already satisfied: urllib3<3,>=1.21.1 in /usr/local/lib/python3.10/dist-packages (from requests>=2.2.1->gspread) (2.0.7)\n",
      "Requirement already satisfied: certifi>=2017.4.17 in /usr/local/lib/python3.10/dist-packages (from requests>=2.2.1->gspread) (2024.2.2)\n",
      "Requirement already satisfied: cachetools<6.0,>=2.0.0 in /usr/local/lib/python3.10/dist-packages (from google-auth->gspread) (5.3.3)\n"
     ]
    }
   ],
   "source": [
    "pip install gspread oauth2client"
   ]
  },
  {
   "cell_type": "code",
   "execution_count": 49,
   "metadata": {
    "colab": {
     "base_uri": "https://localhost:8080/"
    },
    "id": "V05EBCwE6imp",
    "outputId": "9801a520-a9c3-4ffd-8727-0af09607f6ae"
   },
   "outputs": [
    {
     "name": "stdout",
     "output_type": "stream",
     "text": [
      "Mounted at /content/drive\n"
     ]
    }
   ],
   "source": [
    "import gspread\n",
    "from oauth2client.service_account import ServiceAccountCredentials\n",
    "\n",
    "from google.colab import drive\n",
    "import matplotlib.pyplot as plt\n",
    "\n",
    "drive.mount('/content/drive')"
   ]
  },
  {
   "cell_type": "code",
   "execution_count": 88,
   "metadata": {
    "id": "KaNdZzq-68Kf"
   },
   "outputs": [],
   "source": [
    "np.savetxt('/content/drive/My Drive/582 HW 5/ FCN_SDG10k_loss.csv', train_loss_list[:])\n",
    "np.savetxt('/content/drive/My Drive/582 HW 5/ FCN_SDG10k_acc.csv', validation_accuracy_list[:])\n",
    "np.savetxt('/content/drive/My Drive/582 HW 5/ CNN_SDG10k_std.csv', validation_acc_std_list[:])"
   ]
  }
 ],
 "metadata": {
  "colab": {
   "provenance": []
  },
  "kernelspec": {
   "display_name": "Python 3 (ipykernel)",
   "language": "python",
   "name": "python3"
  },
  "language_info": {
   "codemirror_mode": {
    "name": "ipython",
    "version": 3
   },
   "file_extension": ".py",
   "mimetype": "text/x-python",
   "name": "python",
   "nbconvert_exporter": "python",
   "pygments_lexer": "ipython3",
   "version": "3.9.18"
  },
  "varInspector": {
   "cols": {
    "lenName": 16,
    "lenType": 16,
    "lenVar": 40
   },
   "kernels_config": {
    "python": {
     "delete_cmd_postfix": "",
     "delete_cmd_prefix": "del ",
     "library": "var_list.py",
     "varRefreshCmd": "print(var_dic_list())"
    },
    "r": {
     "delete_cmd_postfix": ") ",
     "delete_cmd_prefix": "rm(",
     "library": "var_list.r",
     "varRefreshCmd": "cat(var_dic_list()) "
    }
   },
   "types_to_exclude": [
    "module",
    "function",
    "builtin_function_or_method",
    "instance",
    "_Feature"
   ],
   "window_display": false
  }
 },
 "nbformat": 4,
 "nbformat_minor": 1
}
